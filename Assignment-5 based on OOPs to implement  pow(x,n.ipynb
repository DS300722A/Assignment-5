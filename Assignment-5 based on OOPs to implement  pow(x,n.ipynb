{
 "cells": [
  {
   "cell_type": "code",
   "execution_count": null,
   "id": "7d442d9c",
   "metadata": {},
   "outputs": [],
   "source": [
    "#Write a Python class to implement pow(x, n)\n",
    "\n",
    "\n",
    "\n",
    "#Explanation:\n",
    "\n",
    "#Use should be able to find the nth power of the x.(i.e x*x*x*x...n times)\n",
    "\n",
    "#You must implement it using Class\n",
    "\n",
    "\n",
    "\n",
    "#Sample Input:\n",
    "\n",
    "#x: 10\n",
    "\n",
    "#n: 2\n",
    "\n",
    "\n",
    "\n",
    "#Sample Output:\n",
    "\n",
    "#100\n",
    "\n",
    "\n",
    "#Note :  (if x==0 or x==1 or n==1)  means 0^0 = 0  , 1^1 =1  , \n",
    "\n",
    "        (if x==-1)   means -1^3 = -1(n value is odd no so output is -ve value )  \n",
    "\n",
    "#                            -1^2 = 1(n value is even no so output is +ve value)\n",
    "\n",
    "#   (if n==0)   6^0  = 1(if n is 0 then output will be always 1)\n",
    "         \n",
    "        \n",
    "\n"
   ]
  },
  {
   "cell_type": "code",
   "execution_count": 21,
   "id": "75a1342c",
   "metadata": {},
   "outputs": [
    {
     "name": "stdout",
     "output_type": "stream",
     "text": [
      "enter the value for x :3\n",
      "enter the value for nth :-3\n",
      "0.037037037037037035\n"
     ]
    }
   ],
   "source": [
    " class Power:\n",
    "\n",
    "    def pow(self, x, n):\n",
    "\n",
    "        if x==0 or x==1 or n==1:  ## if x value is 0 or 1 or if n value is 1 then output will be x\n",
    "\n",
    "            return x\n",
    "\n",
    "        if x==-1:     ## if x value is suppose -1 & if n is given even no the output will be positive value of x\n",
    "                          ##else if n is given odd no then output will be negative value of x\n",
    " \n",
    "            if n%2 ==0:\n",
    "\n",
    "                return 1\n",
    "\n",
    "            else:\n",
    "\n",
    "                return -1\n",
    "\n",
    "        if n==0:\n",
    "\n",
    "            return 1\n",
    "\n",
    "        if n<0:\n",
    "\n",
    "            return 1/self.pow(x,-n)\n",
    "\n",
    "        val = self.pow(x,n//2)\n",
    "\n",
    "        if n%2 ==0:\n",
    "\n",
    "            return val*val\n",
    "\n",
    "        return val*val*x\n",
    "    \n",
    "x= int(input(\"enter the value for x :\"))\n",
    "\n",
    "nth= int(input(\"enter the value for nth :\"))\n",
    "\n",
    "obj1=Power()\n",
    "print(obj1.pow(x,nth))   #take input as (3,-3),,(4,5),,,(50,0)\n",
    "\n"
   ]
  },
  {
   "cell_type": "code",
   "execution_count": null,
   "id": "6c2608b3",
   "metadata": {},
   "outputs": [],
   "source": []
  }
 ],
 "metadata": {
  "kernelspec": {
   "display_name": "Python 3 (ipykernel)",
   "language": "python",
   "name": "python3"
  },
  "language_info": {
   "codemirror_mode": {
    "name": "ipython",
    "version": 3
   },
   "file_extension": ".py",
   "mimetype": "text/x-python",
   "name": "python",
   "nbconvert_exporter": "python",
   "pygments_lexer": "ipython3",
   "version": "3.9.12"
  }
 },
 "nbformat": 4,
 "nbformat_minor": 5
}
